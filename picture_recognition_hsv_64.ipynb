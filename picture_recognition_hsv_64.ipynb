{
 "cells": [
  {
   "cell_type": "code",
   "execution_count": 2,
   "metadata": {},
   "outputs": [],
   "source": [
    "import cv2\n",
    "import numpy as np\n",
    "import matplotlib.pyplot as plt\n",
    "import pandas as pd\n",
    "import os\n",
    "import collections\n",
    "from time import perf_counter\n",
    "from tensorflow.keras.models import load_model"
   ]
  },
  {
   "cell_type": "code",
   "execution_count": 3,
   "metadata": {},
   "outputs": [
    {
     "name": "stdout",
     "output_type": "stream",
     "text": [
      "Model: \"sequential\"\n",
      "_________________________________________________________________\n",
      " Layer (type)                Output Shape              Param #   \n",
      "=================================================================\n",
      " conv2d (Conv2D)             (None, 62, 62, 32)        320       \n",
      "                                                                 \n",
      " max_pooling2d (MaxPooling2D  (None, 31, 31, 32)       0         \n",
      " )                                                               \n",
      "                                                                 \n",
      " conv2d_1 (Conv2D)           (None, 29, 29, 32)        9248      \n",
      "                                                                 \n",
      " dropout (Dropout)           (None, 29, 29, 32)        0         \n",
      "                                                                 \n",
      " flatten (Flatten)           (None, 26912)             0         \n",
      "                                                                 \n",
      " dense (Dense)               (None, 128)               3444864   \n",
      "                                                                 \n",
      " dropout_1 (Dropout)         (None, 128)               0         \n",
      "                                                                 \n",
      " dense_1 (Dense)             (None, 5)                 645       \n",
      "                                                                 \n",
      "=================================================================\n",
      "Total params: 3,455,077\n",
      "Trainable params: 3,455,077\n",
      "Non-trainable params: 0\n",
      "_________________________________________________________________\n"
     ]
    }
   ],
   "source": [
    "model = load_model(r\"D:/Research/Model/model_hsv_64\")\n",
    "model.summary()"
   ]
  },
  {
   "cell_type": "code",
   "execution_count": 3,
   "metadata": {},
   "outputs": [],
   "source": [
    "# def number_of_elements(img):\n",
    "#     H = []\n",
    "#     S = []\n",
    "#     V = []\n",
    "#     for i in range(0,32):\n",
    "#         for j in range(0,32):\n",
    "#             H.append(img[i][j][0])\n",
    "#             S.append(img[i][j][1])\n",
    "#             V.append(img[i][j][2])\n",
    "#     return H, S, V"
   ]
  },
  {
   "cell_type": "code",
   "execution_count": 4,
   "metadata": {},
   "outputs": [],
   "source": [
    "# def reverse_img(img,size):\n",
    "#     for i in range(size):\n",
    "#         for j in range(size):\n",
    "#             if img[i][j] == 0:\n",
    "#                 img[i][j] = 255\n",
    "#             else:\n",
    "#                 img[i][j] = 0"
   ]
  },
  {
   "cell_type": "code",
   "execution_count": 5,
   "metadata": {},
   "outputs": [],
   "source": [
    "img_size = 64, 64\n",
    "lower = np.array([13, 0, 0], dtype='uint8')\n",
    "upper = np.array([29, 255, 255], dtype='uint8')\n"
   ]
  },
  {
   "cell_type": "code",
   "execution_count": 9,
   "metadata": {},
   "outputs": [
    {
     "name": "stdout",
     "output_type": "stream",
     "text": [
      "[[1.0000 0.0000 0.0000 0.0000 0.0000]]\n",
      "Gesture: 1\n",
      "0.05395260000000235\n"
     ]
    }
   ],
   "source": [
    "start = perf_counter()\n",
    "pic = r\"D:/Research/Frame/testImage/g1_test.png\"\n",
    "img = cv2.imread(pic)\n",
    "# img = cv2.bitwise_not(img)\n",
    "img = cv2.cvtColor(img, cv2.COLOR_BGR2HSV)\n",
    "img = cv2.resize(img, (img_size))\n",
    "\n",
    "skinRegionHSV = cv2.inRange(img, lower, upper)\n",
    "img = cv2.blur(skinRegionHSV, (2, 2))\n",
    "_, img = cv2.threshold(img, 0, 255, cv2.THRESH_BINARY)\n",
    "# # #輪郭抽出\n",
    "# contours,hierarchy = cv2.findContours(img,cv2.RETR_EXTERNAL,cv2.CHAIN_APPROX_NONE)\n",
    "# # print(contours)\n",
    "# contours = list(filter(lambda x: cv2.contourArea(x) > 1000,contours))\n",
    "# cv2.drawContours(img,contours,-1,color=(0,0,255),thickness=2)\n",
    "# # plt.imshow(thresh)\n",
    "\n",
    "# plt.imshow(img)\n",
    "img = img.reshape(1, 64,64, 1)\n",
    "test = model.predict(img)\n",
    "np.set_printoptions(formatter={'float': '{:.4f}'.format})\n",
    "print(test)\n",
    "index = np.argmax(test)\n",
    "print('Gesture:', index + 1)\n",
    "print(perf_counter() -start)\n"
   ]
  },
  {
   "cell_type": "code",
   "execution_count": 31,
   "metadata": {},
   "outputs": [
    {
     "name": "stdout",
     "output_type": "stream",
     "text": [
      "[[0.0000 1.0000 0.0000 0.0000 0.0000]]\n",
      "Gesture: 2\n"
     ]
    },
    {
     "data": {
      "image/png": "[encoded data removed]",
      "text/plain": [
       "<Figure size 432x288 with 1 Axes>"
      ]
     },
     "metadata": {
      "needs_background": "light"
     },
     "output_type": "display_data"
    }
   ],
   "source": [
    "pic = r\"D:/Research/Frame/testImage/g2_test.png\"\n",
    "img = cv2.imread(pic)\n",
    "# img = cv2.bitwise_not(img)\n",
    "img = cv2.cvtColor(img, cv2.COLOR_BGR2HSV)\n",
    "img = cv2.resize(img, (img_size))\n",
    "\n",
    "skinRegionHSV = cv2.inRange(img, lower, upper)\n",
    "img = cv2.blur(skinRegionHSV, (2, 2))\n",
    "_, img = cv2.threshold(img, 0, 255, cv2.THRESH_BINARY)\n",
    "# # #輪郭抽出\n",
    "# contours,hierarchy = cv2.findContours(img,cv2.RETR_EXTERNAL,cv2.CHAIN_APPROX_NONE)\n",
    "# # print(contours)\n",
    "# contours = list(filter(lambda x: cv2.contourArea(x) > 1000,contours))\n",
    "# cv2.drawContours(img,contours,-1,color=(0,0,255),thickness=2)\n",
    "# # plt.imshow(thresh)\n",
    "\n",
    "plt.imshow(img)\n",
    "img = img.reshape(1, 64,64, 1)\n",
    "test = model.predict(img)\n",
    "np.set_printoptions(formatter={'float': '{:.4f}'.format})\n",
    "print(test)\n",
    "index = np.argmax(test)\n",
    "print('Gesture:', index + 1)\n"
   ]
  },
  {
   "cell_type": "code",
   "execution_count": 32,
   "metadata": {},
   "outputs": [
    {
     "name": "stdout",
     "output_type": "stream",
     "text": [
      "[[1.0000 0.0000 0.0000 0.0000 0.0000]]\n",
      "Gesture: 1\n"
     ]
    },
    {
     "data": {
      "image/png": "[encoded data removed]",
      "text/plain": [
       "<Figure size 432x288 with 1 Axes>"
      ]
     },
     "metadata": {
      "needs_background": "light"
     },
     "output_type": "display_data"
    }
   ],
   "source": [
    "pic = r\"D:/Research/Frame/testImage/g3_test.png\"\n",
    "img = cv2.imread(pic)\n",
    "# img = cv2.bitwise_not(img)\n",
    "img = cv2.cvtColor(img, cv2.COLOR_BGR2HSV)\n",
    "img = cv2.resize(img, (img_size))\n",
    "\n",
    "skinRegionHSV = cv2.inRange(img, lower, upper)\n",
    "img = cv2.blur(skinRegionHSV, (2, 2))\n",
    "_, img = cv2.threshold(img, 0, 255, cv2.THRESH_BINARY)\n",
    "# # #輪郭抽出\n",
    "# contours,hierarchy = cv2.findContours(img,cv2.RETR_EXTERNAL,cv2.CHAIN_APPROX_NONE)\n",
    "# # print(contours)\n",
    "# contours = list(filter(lambda x: cv2.contourArea(x) > 1000,contours))\n",
    "# cv2.drawContours(img,contours,-1,color=(0,0,255),thickness=2)\n",
    "# # plt.imshow(thresh)\n",
    "\n",
    "plt.imshow(img)\n",
    "img = img.reshape(1, 64,64, 1)\n",
    "test = model.predict(img)\n",
    "np.set_printoptions(formatter={'float': '{:.4f}'.format})\n",
    "print(test)\n",
    "index = np.argmax(test)\n",
    "print('Gesture:', index + 1)"
   ]
  },
  {
   "cell_type": "code",
   "execution_count": 33,
   "metadata": {},
   "outputs": [
    {
     "name": "stdout",
     "output_type": "stream",
     "text": [
      "[[0.0000 0.0000 0.0000 1.0000 0.0000]]\n",
      "Gesture: 4\n"
     ]
    },
    {
     "data": {
      "image/png": "[encoded data removed]",
      "text/plain": [
       "<Figure size 432x288 with 1 Axes>"
      ]
     },
     "metadata": {
      "needs_background": "light"
     },
     "output_type": "display_data"
    }
   ],
   "source": [
    "pic = r\"D:/Research/Frame/testImage/g4_test.png\"\n",
    "img = cv2.imread(pic)\n",
    "# img = cv2.bitwise_not(img)\n",
    "img = cv2.cvtColor(img, cv2.COLOR_BGR2HSV)\n",
    "img = cv2.resize(img, (img_size))\n",
    "\n",
    "skinRegionHSV = cv2.inRange(img, lower, upper)\n",
    "img = cv2.blur(skinRegionHSV, (2, 2))\n",
    "_, img = cv2.threshold(img, 0, 255, cv2.THRESH_BINARY)\n",
    "# # #輪郭抽出\n",
    "# contours,hierarchy = cv2.findContours(img,cv2.RETR_EXTERNAL,cv2.CHAIN_APPROX_NONE)\n",
    "# # print(contours)\n",
    "# contours = list(filter(lambda x: cv2.contourArea(x) > 1000,contours))\n",
    "# cv2.drawContours(img,contours,-1,color=(0,0,255),thickness=2)\n",
    "# # plt.imshow(thresh)\n",
    "\n",
    "plt.imshow(img)\n",
    "img = img.reshape(1, 64,64, 1)\n",
    "test = model.predict(img)\n",
    "np.set_printoptions(formatter={'float': '{:.4f}'.format})\n",
    "print(test)\n",
    "index = np.argmax(test)\n",
    "print('Gesture:', index + 1)\n"
   ]
  },
  {
   "cell_type": "code",
   "execution_count": 34,
   "metadata": {},
   "outputs": [
    {
     "name": "stdout",
     "output_type": "stream",
     "text": [
      "[[1.0000 0.0000 0.0000 0.0000 0.0000]]\n",
      "Gesture: 1\n"
     ]
    },
    {
     "data": {
      "image/png": "[encoded data removed]",
      "text/plain": [
       "<Figure size 432x288 with 1 Axes>"
      ]
     },
     "metadata": {
      "needs_background": "light"
     },
     "output_type": "display_data"
    }
   ],
   "source": [
    "pic = r\"D:/Research/Frame/testImage/g5_test.png\"\n",
    "img = cv2.imread(pic)\n",
    "# img = cv2.bitwise_not(img)\n",
    "img = cv2.cvtColor(img, cv2.COLOR_BGR2HSV)\n",
    "img = cv2.resize(img, (img_size))\n",
    "\n",
    "skinRegionHSV = cv2.inRange(img, lower, upper)\n",
    "img = cv2.blur(skinRegionHSV, (2, 2))\n",
    "_, img = cv2.threshold(img, 0, 255, cv2.THRESH_BINARY)\n",
    "# # #輪郭抽出\n",
    "# contours,hierarchy = cv2.findContours(img,cv2.RETR_EXTERNAL,cv2.CHAIN_APPROX_NONE)\n",
    "# # print(contours)\n",
    "# contours = list(filter(lambda x: cv2.contourArea(x) > 1000,contours))\n",
    "# cv2.drawContours(img,contours,-1,color=(0,0,255),thickness=2)\n",
    "# # plt.imshow(thresh)\n",
    "\n",
    "plt.imshow(img)\n",
    "img = img.reshape(1, 64,64, 1)\n",
    "test = model.predict(img)\n",
    "np.set_printoptions(formatter={'float': '{:.4f}'.format})\n",
    "print(test)\n",
    "index = np.argmax(test)\n",
    "print('Gesture:', index + 1)\n"
   ]
  },
  {
   "cell_type": "code",
   "execution_count": null,
   "metadata": {},
   "outputs": [],
   "source": [
    "# H,S,V = number_of_elements(img)\n",
    "# h = collections.Counter(H)\n",
    "# s = collections.Counter(S)\n",
    "# v = collections.Counter(V)\n",
    "# new_h = sorted(H)"
   ]
  },
  {
   "cell_type": "code",
   "execution_count": null,
   "metadata": {},
   "outputs": [],
   "source": [
    "# plt.hist(new_h,bins=180)"
   ]
  },
  {
   "cell_type": "code",
   "execution_count": null,
   "metadata": {},
   "outputs": [],
   "source": [
    "# plt.hist(S,bins=255)"
   ]
  },
  {
   "cell_type": "code",
   "execution_count": null,
   "metadata": {},
   "outputs": [],
   "source": [
    "# plt.hist(V,bins=255)"
   ]
  },
  {
   "cell_type": "code",
   "execution_count": null,
   "metadata": {},
   "outputs": [],
   "source": [
    "# lower = np.array([0,0,0],dtype='uint8')\n",
    "# upper = np.array([90,10,255],dtype='uint8')\n",
    "# skinRegionHSV = cv2.inRange(img, lower, upper)\n",
    "# bin = cv2.blur(skinRegionHSV,(2,2))\n",
    "# _,thresh = cv2.threshold(bin,0,255,cv2.THRESH_BINARY)\n",
    "# plt.imshow(thresh)"
   ]
  },
  {
   "cell_type": "code",
   "execution_count": null,
   "metadata": {},
   "outputs": [],
   "source": [
    "# for i in range(0,32):\n",
    "#     for j in range(0,32):\n",
    "#         if thresh[i][j] == 0:\n",
    "#             thresh[i][j] = 255\n",
    "#         else:\n",
    "#             thresh[i][j] = 0"
   ]
  },
  {
   "cell_type": "code",
   "execution_count": null,
   "metadata": {},
   "outputs": [],
   "source": [
    "# plt.imshow(thresh)"
   ]
  },
  {
   "cell_type": "code",
   "execution_count": null,
   "metadata": {},
   "outputs": [],
   "source": [
    "# #輪郭抽出\n",
    "# contours,hierarchy = cv2.findContours(thresh,cv2.RETR_LIST,cv2.CHAIN_APPROX_SIMPLE)\n",
    "# print(contours)\n",
    "# contours = list(filter(lambda x: cv2.contourArea(x) > 50,contours))\n",
    "# cv2.drawContours(thresh,contours,-1,color=(0,0,255),thickness=2)\n",
    "# plt.imshow(thresh)"
   ]
  },
  {
   "cell_type": "code",
   "execution_count": null,
   "metadata": {},
   "outputs": [],
   "source": [
    "# for i in range(0,32):\n",
    "#     for j in range(0,32):\n",
    "#         if thresh[i][j] == 0:\n",
    "#             thresh[i][j] = 255\n",
    "#         else:\n",
    "#             thresh[i][j] = 0"
   ]
  },
  {
   "cell_type": "code",
   "execution_count": null,
   "metadata": {},
   "outputs": [],
   "source": [
    "# thresh = thresh.reshape(1,64,64,1)"
   ]
  },
  {
   "cell_type": "code",
   "execution_count": null,
   "metadata": {},
   "outputs": [],
   "source": [
    "# test = model.predict(thresh)\n",
    "# print(test)"
   ]
  }
 ],
 "metadata": {
  "interpreter": {
   "hash": "7752454b032f811de5c758a19799366445b560d3ddf6248a9559222b6d7b2910"
  },
  "kernelspec": {
   "display_name": "Python 3.7.6 64-bit ('venv': venv)",
   "name": "python3"
  },
  "language_info": {
   "codemirror_mode": {
    "name": "ipython",
    "version": 3
   },
   "file_extension": ".py",
   "mimetype": "text/x-python",
   "name": "python",
   "nbconvert_exporter": "python",
   "pygments_lexer": "ipython3",
   "version": "3.7.6"
  },
  "orig_nbformat": 4
 },
 "nbformat": 4,
 "nbformat_minor": 2
}
