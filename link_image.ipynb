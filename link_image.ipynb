{
 "cells": [
  {
   "cell_type": "code",
   "execution_count": 1,
   "metadata": {},
   "outputs": [],
   "source": [
    "import matplotlib.pyplot as plt\n",
    "import cv2"
   ]
  },
  {
   "cell_type": "code",
   "execution_count": 2,
   "metadata": {},
   "outputs": [],
   "source": [
    "img0 = cv2.imread(r'D:/Research/Thesis_image/gray_0.png')\n",
    "img1 = cv2.imread(r'D:/Research/Thesis_image/gray_1.png')\n",
    "img2 = cv2.imread(r'D:/Research/Thesis_image/gray_2.png')\n",
    "img3 = cv2.imread(r'D:/Research/Thesis_image/gray_3.png')\n",
    "img4 = cv2.imread(r'D:/Research/Thesis_image/gray_4.png')"
   ]
  },
  {
   "cell_type": "code",
   "execution_count": 9,
   "metadata": {},
   "outputs": [
    {
     "data": {
      "text/plain": [
       "<matplotlib.image.AxesImage at 0x19dbcd0e608>"
      ]
     },
     "execution_count": 9,
     "metadata": {},
     "output_type": "execute_result"
    },
    {
     "data": {
      "image/png": "[encoded data removed]",
      "text/plain": [
       "<Figure size 432x288 with 5 Axes>"
      ]
     },
     "metadata": {
      "needs_background": "light"
     },
     "output_type": "display_data"
    }
   ],
   "source": [
    "fig = plt.figure()\n",
    "ax1 = fig.add_subplot(1,5,1)\n",
    "plt.imshow(cv2.resize(cv2.cvtColor(img0,cv2.COLOR_BGR2RGB),(64,64)))\n",
    "\n",
    "ax2 = fig.add_subplot(1,5,2)\n",
    "plt.imshow(cv2.resize(cv2.cvtColor(img1,cv2.COLOR_BGR2RGB),(64,64)))\n",
    "ax3 = fig.add_subplot(1, 5, 3)\n",
    "plt.imshow(cv2.resize(cv2.cvtColor(img2, cv2.COLOR_BGR2RGB), (64, 64)))\n",
    "\n",
    "ax4 = fig.add_subplot(1, 5, 4)\n",
    "plt.imshow(cv2.resize(cv2.cvtColor(img3, cv2.COLOR_BGR2RGB), (64, 64)))\n",
    "\n",
    "ax5 = fig.add_subplot(1, 5, 5)\n",
    "plt.imshow(cv2.resize(cv2.cvtColor(img4, cv2.COLOR_BGR2RGB), (64, 64)))\n"
   ]
  }
 ],
 "metadata": {
  "interpreter": {
   "hash": "7752454b032f811de5c758a19799366445b560d3ddf6248a9559222b6d7b2910"
  },
  "kernelspec": {
   "display_name": "Python 3.7.6 64-bit ('venv': venv)",
   "language": "python",
   "name": "python3"
  },
  "language_info": {
   "codemirror_mode": {
    "name": "ipython",
    "version": 3
   },
   "file_extension": ".py",
   "mimetype": "text/x-python",
   "name": "python",
   "nbconvert_exporter": "python",
   "pygments_lexer": "ipython3",
   "version": "3.7.6"
  },
  "orig_nbformat": 4
 },
 "nbformat": 4,
 "nbformat_minor": 2
}
